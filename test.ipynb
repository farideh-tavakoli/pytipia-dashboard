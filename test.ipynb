{
 "cells": [
  {
   "cell_type": "code",
   "execution_count": 1,
   "metadata": {},
   "outputs": [],
   "source": [
    "import sys"
   ]
  },
  {
   "cell_type": "code",
   "execution_count": 2,
   "metadata": {},
   "outputs": [
    {
     "data": {
      "text/plain": [
       "['/Users/faridehtavakoli/miniconda3/envs/pytopia-dash/lib/python38.zip',\n",
       " '/Users/faridehtavakoli/miniconda3/envs/pytopia-dash/lib/python3.8',\n",
       " '/Users/faridehtavakoli/miniconda3/envs/pytopia-dash/lib/python3.8/lib-dynload',\n",
       " '',\n",
       " '/Users/faridehtavakoli/miniconda3/envs/pytopia-dash/lib/python3.8/site-packages',\n",
       " '/Users/faridehtavakoli/miniconda3/envs/pytopia-dash/lib/python3.8/site-packages/setuptools/_vendor']"
      ]
     },
     "execution_count": 2,
     "metadata": {},
     "output_type": "execute_result"
    }
   ],
   "source": [
    "sys.path"
   ]
  },
  {
   "cell_type": "code",
   "execution_count": null,
   "metadata": {},
   "outputs": [],
   "source": []
  }
 ],
 "metadata": {
  "kernelspec": {
   "display_name": "pytopia-dash",
   "language": "python",
   "name": "python3"
  },
  "language_info": {
   "codemirror_mode": {
    "name": "ipython",
    "version": 3
   },
   "file_extension": ".py",
   "mimetype": "text/x-python",
   "name": "python",
   "nbconvert_exporter": "python",
   "pygments_lexer": "ipython3",
   "version": "3.8.20"
  }
 },
 "nbformat": 4,
 "nbformat_minor": 2
}
